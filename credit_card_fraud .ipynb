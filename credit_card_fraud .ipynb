{
  "nbformat": 4,
  "nbformat_minor": 0,
  "metadata": {
    "colab": {
      "name": "credit_card_fraud.ipynb",
      "provenance": [],
      "collapsed_sections": []
    },
    "kernelspec": {
      "name": "python3",
      "display_name": "Python 3"
    },
    "language_info": {
      "name": "python"
    }
  },
  "cells": [
    {
      "cell_type": "code",
      "metadata": {
        "id": "S9vlfiAjqN5c"
      },
      "source": [
        "#importing Deopendencies\n",
        "import numpy as np\n",
        "import pandas as pd\n",
        "from sklearn.model_selection import train_test_split\n",
        "from sklearn.linear_model import LogisticRegression\n",
        "from sklearn.metrics import accuracy_score"
      ],
      "execution_count": 1,
      "outputs": []
    },
    {
      "cell_type": "code",
      "metadata": {
        "id": "FkxlKciiqxVc"
      },
      "source": [
        "#loading the dataset into Pandas DataFrame\n",
        "credit_card = pd.read_csv('/content/creditcard.csv')"
      ],
      "execution_count": 2,
      "outputs": []
    },
    {
      "cell_type": "code",
      "metadata": {
        "colab": {
          "base_uri": "https://localhost:8080/",
          "height": 224
        },
        "id": "udvdzIZ_rSs3",
        "outputId": "6db56cb2-781e-4ec6-bb0b-915a9ae64a7c"
      },
      "source": [
        "#first five rows of the dataset\n",
        "credit_card.head()"
      ],
      "execution_count": 3,
      "outputs": [
        {
          "output_type": "execute_result",
          "data": {
            "text/html": [
              "<div>\n",
              "<style scoped>\n",
              "    .dataframe tbody tr th:only-of-type {\n",
              "        vertical-align: middle;\n",
              "    }\n",
              "\n",
              "    .dataframe tbody tr th {\n",
              "        vertical-align: top;\n",
              "    }\n",
              "\n",
              "    .dataframe thead th {\n",
              "        text-align: right;\n",
              "    }\n",
              "</style>\n",
              "<table border=\"1\" class=\"dataframe\">\n",
              "  <thead>\n",
              "    <tr style=\"text-align: right;\">\n",
              "      <th></th>\n",
              "      <th>Time</th>\n",
              "      <th>V1</th>\n",
              "      <th>V2</th>\n",
              "      <th>V3</th>\n",
              "      <th>V4</th>\n",
              "      <th>V5</th>\n",
              "      <th>V6</th>\n",
              "      <th>V7</th>\n",
              "      <th>V8</th>\n",
              "      <th>V9</th>\n",
              "      <th>V10</th>\n",
              "      <th>V11</th>\n",
              "      <th>V12</th>\n",
              "      <th>V13</th>\n",
              "      <th>V14</th>\n",
              "      <th>V15</th>\n",
              "      <th>V16</th>\n",
              "      <th>V17</th>\n",
              "      <th>V18</th>\n",
              "      <th>V19</th>\n",
              "      <th>V20</th>\n",
              "      <th>V21</th>\n",
              "      <th>V22</th>\n",
              "      <th>V23</th>\n",
              "      <th>V24</th>\n",
              "      <th>V25</th>\n",
              "      <th>V26</th>\n",
              "      <th>V27</th>\n",
              "      <th>V28</th>\n",
              "      <th>Amount</th>\n",
              "      <th>Class</th>\n",
              "    </tr>\n",
              "  </thead>\n",
              "  <tbody>\n",
              "    <tr>\n",
              "      <th>0</th>\n",
              "      <td>0</td>\n",
              "      <td>-1.359807</td>\n",
              "      <td>-0.072781</td>\n",
              "      <td>2.536347</td>\n",
              "      <td>1.378155</td>\n",
              "      <td>-0.338321</td>\n",
              "      <td>0.462388</td>\n",
              "      <td>0.239599</td>\n",
              "      <td>0.098698</td>\n",
              "      <td>0.363787</td>\n",
              "      <td>0.090794</td>\n",
              "      <td>-0.551600</td>\n",
              "      <td>-0.617801</td>\n",
              "      <td>-0.991390</td>\n",
              "      <td>-0.311169</td>\n",
              "      <td>1.468177</td>\n",
              "      <td>-0.470401</td>\n",
              "      <td>0.207971</td>\n",
              "      <td>0.025791</td>\n",
              "      <td>0.403993</td>\n",
              "      <td>0.251412</td>\n",
              "      <td>-0.018307</td>\n",
              "      <td>0.277838</td>\n",
              "      <td>-0.110474</td>\n",
              "      <td>0.066928</td>\n",
              "      <td>0.128539</td>\n",
              "      <td>-0.189115</td>\n",
              "      <td>0.133558</td>\n",
              "      <td>-0.021053</td>\n",
              "      <td>149.62</td>\n",
              "      <td>0.0</td>\n",
              "    </tr>\n",
              "    <tr>\n",
              "      <th>1</th>\n",
              "      <td>0</td>\n",
              "      <td>1.191857</td>\n",
              "      <td>0.266151</td>\n",
              "      <td>0.166480</td>\n",
              "      <td>0.448154</td>\n",
              "      <td>0.060018</td>\n",
              "      <td>-0.082361</td>\n",
              "      <td>-0.078803</td>\n",
              "      <td>0.085102</td>\n",
              "      <td>-0.255425</td>\n",
              "      <td>-0.166974</td>\n",
              "      <td>1.612727</td>\n",
              "      <td>1.065235</td>\n",
              "      <td>0.489095</td>\n",
              "      <td>-0.143772</td>\n",
              "      <td>0.635558</td>\n",
              "      <td>0.463917</td>\n",
              "      <td>-0.114805</td>\n",
              "      <td>-0.183361</td>\n",
              "      <td>-0.145783</td>\n",
              "      <td>-0.069083</td>\n",
              "      <td>-0.225775</td>\n",
              "      <td>-0.638672</td>\n",
              "      <td>0.101288</td>\n",
              "      <td>-0.339846</td>\n",
              "      <td>0.167170</td>\n",
              "      <td>0.125895</td>\n",
              "      <td>-0.008983</td>\n",
              "      <td>0.014724</td>\n",
              "      <td>2.69</td>\n",
              "      <td>0.0</td>\n",
              "    </tr>\n",
              "    <tr>\n",
              "      <th>2</th>\n",
              "      <td>1</td>\n",
              "      <td>-1.358354</td>\n",
              "      <td>-1.340163</td>\n",
              "      <td>1.773209</td>\n",
              "      <td>0.379780</td>\n",
              "      <td>-0.503198</td>\n",
              "      <td>1.800499</td>\n",
              "      <td>0.791461</td>\n",
              "      <td>0.247676</td>\n",
              "      <td>-1.514654</td>\n",
              "      <td>0.207643</td>\n",
              "      <td>0.624501</td>\n",
              "      <td>0.066084</td>\n",
              "      <td>0.717293</td>\n",
              "      <td>-0.165946</td>\n",
              "      <td>2.345865</td>\n",
              "      <td>-2.890083</td>\n",
              "      <td>1.109969</td>\n",
              "      <td>-0.121359</td>\n",
              "      <td>-2.261857</td>\n",
              "      <td>0.524980</td>\n",
              "      <td>0.247998</td>\n",
              "      <td>0.771679</td>\n",
              "      <td>0.909412</td>\n",
              "      <td>-0.689281</td>\n",
              "      <td>-0.327642</td>\n",
              "      <td>-0.139097</td>\n",
              "      <td>-0.055353</td>\n",
              "      <td>-0.059752</td>\n",
              "      <td>378.66</td>\n",
              "      <td>0.0</td>\n",
              "    </tr>\n",
              "    <tr>\n",
              "      <th>3</th>\n",
              "      <td>1</td>\n",
              "      <td>-0.966272</td>\n",
              "      <td>-0.185226</td>\n",
              "      <td>1.792993</td>\n",
              "      <td>-0.863291</td>\n",
              "      <td>-0.010309</td>\n",
              "      <td>1.247203</td>\n",
              "      <td>0.237609</td>\n",
              "      <td>0.377436</td>\n",
              "      <td>-1.387024</td>\n",
              "      <td>-0.054952</td>\n",
              "      <td>-0.226487</td>\n",
              "      <td>0.178228</td>\n",
              "      <td>0.507757</td>\n",
              "      <td>-0.287924</td>\n",
              "      <td>-0.631418</td>\n",
              "      <td>-1.059647</td>\n",
              "      <td>-0.684093</td>\n",
              "      <td>1.965775</td>\n",
              "      <td>-1.232622</td>\n",
              "      <td>-0.208038</td>\n",
              "      <td>-0.108300</td>\n",
              "      <td>0.005274</td>\n",
              "      <td>-0.190321</td>\n",
              "      <td>-1.175575</td>\n",
              "      <td>0.647376</td>\n",
              "      <td>-0.221929</td>\n",
              "      <td>0.062723</td>\n",
              "      <td>0.061458</td>\n",
              "      <td>123.50</td>\n",
              "      <td>0.0</td>\n",
              "    </tr>\n",
              "    <tr>\n",
              "      <th>4</th>\n",
              "      <td>2</td>\n",
              "      <td>-1.158233</td>\n",
              "      <td>0.877737</td>\n",
              "      <td>1.548718</td>\n",
              "      <td>0.403034</td>\n",
              "      <td>-0.407193</td>\n",
              "      <td>0.095921</td>\n",
              "      <td>0.592941</td>\n",
              "      <td>-0.270533</td>\n",
              "      <td>0.817739</td>\n",
              "      <td>0.753074</td>\n",
              "      <td>-0.822843</td>\n",
              "      <td>0.538196</td>\n",
              "      <td>1.345852</td>\n",
              "      <td>-1.119670</td>\n",
              "      <td>0.175121</td>\n",
              "      <td>-0.451449</td>\n",
              "      <td>-0.237033</td>\n",
              "      <td>-0.038195</td>\n",
              "      <td>0.803487</td>\n",
              "      <td>0.408542</td>\n",
              "      <td>-0.009431</td>\n",
              "      <td>0.798278</td>\n",
              "      <td>-0.137458</td>\n",
              "      <td>0.141267</td>\n",
              "      <td>-0.206010</td>\n",
              "      <td>0.502292</td>\n",
              "      <td>0.219422</td>\n",
              "      <td>0.215153</td>\n",
              "      <td>69.99</td>\n",
              "      <td>0.0</td>\n",
              "    </tr>\n",
              "  </tbody>\n",
              "</table>\n",
              "</div>"
            ],
            "text/plain": [
              "   Time        V1        V2        V3  ...       V27       V28  Amount  Class\n",
              "0     0 -1.359807 -0.072781  2.536347  ...  0.133558 -0.021053  149.62    0.0\n",
              "1     0  1.191857  0.266151  0.166480  ... -0.008983  0.014724    2.69    0.0\n",
              "2     1 -1.358354 -1.340163  1.773209  ... -0.055353 -0.059752  378.66    0.0\n",
              "3     1 -0.966272 -0.185226  1.792993  ...  0.062723  0.061458  123.50    0.0\n",
              "4     2 -1.158233  0.877737  1.548718  ...  0.219422  0.215153   69.99    0.0\n",
              "\n",
              "[5 rows x 31 columns]"
            ]
          },
          "metadata": {},
          "execution_count": 3
        }
      ]
    },
    {
      "cell_type": "code",
      "metadata": {
        "id": "fDGAY2H_saOF",
        "colab": {
          "base_uri": "https://localhost:8080/",
          "height": 224
        },
        "outputId": "6fe0335d-06a6-4d53-ebbd-0182765bd1be"
      },
      "source": [
        "#last five rows of the dataset\n",
        "credit_card.tail()"
      ],
      "execution_count": 4,
      "outputs": [
        {
          "output_type": "execute_result",
          "data": {
            "text/html": [
              "<div>\n",
              "<style scoped>\n",
              "    .dataframe tbody tr th:only-of-type {\n",
              "        vertical-align: middle;\n",
              "    }\n",
              "\n",
              "    .dataframe tbody tr th {\n",
              "        vertical-align: top;\n",
              "    }\n",
              "\n",
              "    .dataframe thead th {\n",
              "        text-align: right;\n",
              "    }\n",
              "</style>\n",
              "<table border=\"1\" class=\"dataframe\">\n",
              "  <thead>\n",
              "    <tr style=\"text-align: right;\">\n",
              "      <th></th>\n",
              "      <th>Time</th>\n",
              "      <th>V1</th>\n",
              "      <th>V2</th>\n",
              "      <th>V3</th>\n",
              "      <th>V4</th>\n",
              "      <th>V5</th>\n",
              "      <th>V6</th>\n",
              "      <th>V7</th>\n",
              "      <th>V8</th>\n",
              "      <th>V9</th>\n",
              "      <th>V10</th>\n",
              "      <th>V11</th>\n",
              "      <th>V12</th>\n",
              "      <th>V13</th>\n",
              "      <th>V14</th>\n",
              "      <th>V15</th>\n",
              "      <th>V16</th>\n",
              "      <th>V17</th>\n",
              "      <th>V18</th>\n",
              "      <th>V19</th>\n",
              "      <th>V20</th>\n",
              "      <th>V21</th>\n",
              "      <th>V22</th>\n",
              "      <th>V23</th>\n",
              "      <th>V24</th>\n",
              "      <th>V25</th>\n",
              "      <th>V26</th>\n",
              "      <th>V27</th>\n",
              "      <th>V28</th>\n",
              "      <th>Amount</th>\n",
              "      <th>Class</th>\n",
              "    </tr>\n",
              "  </thead>\n",
              "  <tbody>\n",
              "    <tr>\n",
              "      <th>19893</th>\n",
              "      <td>30631</td>\n",
              "      <td>-0.377215</td>\n",
              "      <td>0.973528</td>\n",
              "      <td>1.647077</td>\n",
              "      <td>0.732439</td>\n",
              "      <td>0.024728</td>\n",
              "      <td>-0.541379</td>\n",
              "      <td>0.828488</td>\n",
              "      <td>-0.060740</td>\n",
              "      <td>-0.725148</td>\n",
              "      <td>-0.450153</td>\n",
              "      <td>0.242824</td>\n",
              "      <td>0.488841</td>\n",
              "      <td>0.559073</td>\n",
              "      <td>0.137418</td>\n",
              "      <td>0.863233</td>\n",
              "      <td>-0.415339</td>\n",
              "      <td>-0.029005</td>\n",
              "      <td>-0.602882</td>\n",
              "      <td>-0.904378</td>\n",
              "      <td>-0.035009</td>\n",
              "      <td>0.228443</td>\n",
              "      <td>0.685913</td>\n",
              "      <td>-0.107687</td>\n",
              "      <td>0.631740</td>\n",
              "      <td>0.126366</td>\n",
              "      <td>-0.327633</td>\n",
              "      <td>0.056522</td>\n",
              "      <td>0.033139</td>\n",
              "      <td>29.90</td>\n",
              "      <td>0.0</td>\n",
              "    </tr>\n",
              "    <tr>\n",
              "      <th>19894</th>\n",
              "      <td>30631</td>\n",
              "      <td>1.209281</td>\n",
              "      <td>0.078793</td>\n",
              "      <td>0.061820</td>\n",
              "      <td>0.593730</td>\n",
              "      <td>-0.235772</td>\n",
              "      <td>-0.448524</td>\n",
              "      <td>-0.141196</td>\n",
              "      <td>0.089236</td>\n",
              "      <td>0.411825</td>\n",
              "      <td>-0.263041</td>\n",
              "      <td>-0.572076</td>\n",
              "      <td>-1.062719</td>\n",
              "      <td>-2.106307</td>\n",
              "      <td>0.195707</td>\n",
              "      <td>1.634883</td>\n",
              "      <td>0.404446</td>\n",
              "      <td>0.278583</td>\n",
              "      <td>-0.336045</td>\n",
              "      <td>-0.409635</td>\n",
              "      <td>-0.224263</td>\n",
              "      <td>-0.302369</td>\n",
              "      <td>-0.984051</td>\n",
              "      <td>0.130401</td>\n",
              "      <td>-0.390756</td>\n",
              "      <td>0.105615</td>\n",
              "      <td>0.152881</td>\n",
              "      <td>-0.025292</td>\n",
              "      <td>0.021130</td>\n",
              "      <td>16.00</td>\n",
              "      <td>0.0</td>\n",
              "    </tr>\n",
              "    <tr>\n",
              "      <th>19895</th>\n",
              "      <td>30632</td>\n",
              "      <td>1.286596</td>\n",
              "      <td>-1.450336</td>\n",
              "      <td>0.814530</td>\n",
              "      <td>-1.308949</td>\n",
              "      <td>-2.055209</td>\n",
              "      <td>-0.592064</td>\n",
              "      <td>-1.317286</td>\n",
              "      <td>0.032386</td>\n",
              "      <td>-1.720017</td>\n",
              "      <td>1.589335</td>\n",
              "      <td>1.187759</td>\n",
              "      <td>-0.705883</td>\n",
              "      <td>-0.567504</td>\n",
              "      <td>-0.062561</td>\n",
              "      <td>0.250012</td>\n",
              "      <td>0.047145</td>\n",
              "      <td>0.259016</td>\n",
              "      <td>0.881106</td>\n",
              "      <td>-0.247161</td>\n",
              "      <td>-0.219582</td>\n",
              "      <td>0.040743</td>\n",
              "      <td>0.262534</td>\n",
              "      <td>-0.045112</td>\n",
              "      <td>0.515660</td>\n",
              "      <td>0.218606</td>\n",
              "      <td>-0.138794</td>\n",
              "      <td>0.026395</td>\n",
              "      <td>0.030885</td>\n",
              "      <td>92.00</td>\n",
              "      <td>0.0</td>\n",
              "    </tr>\n",
              "    <tr>\n",
              "      <th>19896</th>\n",
              "      <td>30633</td>\n",
              "      <td>-0.488090</td>\n",
              "      <td>1.018448</td>\n",
              "      <td>0.670593</td>\n",
              "      <td>-0.245462</td>\n",
              "      <td>0.828347</td>\n",
              "      <td>-0.233102</td>\n",
              "      <td>0.662586</td>\n",
              "      <td>-0.040028</td>\n",
              "      <td>-0.279439</td>\n",
              "      <td>-0.402822</td>\n",
              "      <td>-1.387400</td>\n",
              "      <td>-0.332092</td>\n",
              "      <td>0.764095</td>\n",
              "      <td>-0.630524</td>\n",
              "      <td>0.970633</td>\n",
              "      <td>0.765937</td>\n",
              "      <td>-0.533608</td>\n",
              "      <td>0.267265</td>\n",
              "      <td>0.450661</td>\n",
              "      <td>0.145257</td>\n",
              "      <td>-0.344859</td>\n",
              "      <td>-0.902035</td>\n",
              "      <td>-0.050171</td>\n",
              "      <td>-1.060827</td>\n",
              "      <td>0.062221</td>\n",
              "      <td>0.150428</td>\n",
              "      <td>0.130266</td>\n",
              "      <td>0.067290</td>\n",
              "      <td>1.99</td>\n",
              "      <td>0.0</td>\n",
              "    </tr>\n",
              "    <tr>\n",
              "      <th>19897</th>\n",
              "      <td>30633</td>\n",
              "      <td>-2.609841</td>\n",
              "      <td>2.479357</td>\n",
              "      <td>0.763844</td>\n",
              "      <td>0.044509</td>\n",
              "      <td>-0.645716</td>\n",
              "      <td>0.762867</td>\n",
              "      <td>-1.626415</td>\n",
              "      <td>-7.617854</td>\n",
              "      <td>1.399746</td>\n",
              "      <td>1.000000</td>\n",
              "      <td>NaN</td>\n",
              "      <td>NaN</td>\n",
              "      <td>NaN</td>\n",
              "      <td>NaN</td>\n",
              "      <td>NaN</td>\n",
              "      <td>NaN</td>\n",
              "      <td>NaN</td>\n",
              "      <td>NaN</td>\n",
              "      <td>NaN</td>\n",
              "      <td>NaN</td>\n",
              "      <td>NaN</td>\n",
              "      <td>NaN</td>\n",
              "      <td>NaN</td>\n",
              "      <td>NaN</td>\n",
              "      <td>NaN</td>\n",
              "      <td>NaN</td>\n",
              "      <td>NaN</td>\n",
              "      <td>NaN</td>\n",
              "      <td>NaN</td>\n",
              "      <td>NaN</td>\n",
              "    </tr>\n",
              "  </tbody>\n",
              "</table>\n",
              "</div>"
            ],
            "text/plain": [
              "        Time        V1        V2        V3  ...       V27       V28  Amount  Class\n",
              "19893  30631 -0.377215  0.973528  1.647077  ...  0.056522  0.033139   29.90    0.0\n",
              "19894  30631  1.209281  0.078793  0.061820  ... -0.025292  0.021130   16.00    0.0\n",
              "19895  30632  1.286596 -1.450336  0.814530  ...  0.026395  0.030885   92.00    0.0\n",
              "19896  30633 -0.488090  1.018448  0.670593  ...  0.130266  0.067290    1.99    0.0\n",
              "19897  30633 -2.609841  2.479357  0.763844  ...       NaN       NaN     NaN    NaN\n",
              "\n",
              "[5 rows x 31 columns]"
            ]
          },
          "metadata": {},
          "execution_count": 4
        }
      ]
    },
    {
      "cell_type": "code",
      "metadata": {
        "colab": {
          "base_uri": "https://localhost:8080/"
        },
        "id": "tot38Xy-ruDb",
        "outputId": "af1f80b6-35b2-4238-c051-affb02d9f11d"
      },
      "source": [
        "#dataset information\n",
        "credit_card.info()"
      ],
      "execution_count": 5,
      "outputs": [
        {
          "output_type": "stream",
          "text": [
            "<class 'pandas.core.frame.DataFrame'>\n",
            "RangeIndex: 19898 entries, 0 to 19897\n",
            "Data columns (total 31 columns):\n",
            " #   Column  Non-Null Count  Dtype  \n",
            "---  ------  --------------  -----  \n",
            " 0   Time    19898 non-null  int64  \n",
            " 1   V1      19898 non-null  float64\n",
            " 2   V2      19898 non-null  float64\n",
            " 3   V3      19898 non-null  float64\n",
            " 4   V4      19898 non-null  float64\n",
            " 5   V5      19898 non-null  float64\n",
            " 6   V6      19898 non-null  float64\n",
            " 7   V7      19898 non-null  float64\n",
            " 8   V8      19898 non-null  float64\n",
            " 9   V9      19898 non-null  float64\n",
            " 10  V10     19898 non-null  float64\n",
            " 11  V11     19897 non-null  float64\n",
            " 12  V12     19897 non-null  float64\n",
            " 13  V13     19897 non-null  float64\n",
            " 14  V14     19897 non-null  float64\n",
            " 15  V15     19897 non-null  float64\n",
            " 16  V16     19897 non-null  float64\n",
            " 17  V17     19897 non-null  float64\n",
            " 18  V18     19897 non-null  float64\n",
            " 19  V19     19897 non-null  float64\n",
            " 20  V20     19897 non-null  float64\n",
            " 21  V21     19897 non-null  float64\n",
            " 22  V22     19897 non-null  float64\n",
            " 23  V23     19897 non-null  float64\n",
            " 24  V24     19897 non-null  float64\n",
            " 25  V25     19897 non-null  float64\n",
            " 26  V26     19897 non-null  float64\n",
            " 27  V27     19897 non-null  float64\n",
            " 28  V28     19897 non-null  float64\n",
            " 29  Amount  19897 non-null  float64\n",
            " 30  Class   19897 non-null  float64\n",
            "dtypes: float64(30), int64(1)\n",
            "memory usage: 4.7 MB\n"
          ],
          "name": "stdout"
        }
      ]
    },
    {
      "cell_type": "code",
      "metadata": {
        "colab": {
          "base_uri": "https://localhost:8080/"
        },
        "id": "lz1BnOFitC2E",
        "outputId": "75845440-4d64-4998-ff9d-909b29f30a88"
      },
      "source": [
        "#checking number of missing value in each colum\n",
        "credit_card.isnull().sum()"
      ],
      "execution_count": 6,
      "outputs": [
        {
          "output_type": "execute_result",
          "data": {
            "text/plain": [
              "Time      0\n",
              "V1        0\n",
              "V2        0\n",
              "V3        0\n",
              "V4        0\n",
              "V5        0\n",
              "V6        0\n",
              "V7        0\n",
              "V8        0\n",
              "V9        0\n",
              "V10       0\n",
              "V11       1\n",
              "V12       1\n",
              "V13       1\n",
              "V14       1\n",
              "V15       1\n",
              "V16       1\n",
              "V17       1\n",
              "V18       1\n",
              "V19       1\n",
              "V20       1\n",
              "V21       1\n",
              "V22       1\n",
              "V23       1\n",
              "V24       1\n",
              "V25       1\n",
              "V26       1\n",
              "V27       1\n",
              "V28       1\n",
              "Amount    1\n",
              "Class     1\n",
              "dtype: int64"
            ]
          },
          "metadata": {},
          "execution_count": 6
        }
      ]
    },
    {
      "cell_type": "code",
      "metadata": {
        "id": "-3iVUZRNuypz",
        "colab": {
          "base_uri": "https://localhost:8080/"
        },
        "outputId": "17a49cdb-3582-438b-f015-5496cdee6a74"
      },
      "source": [
        "#checking the shape of the dataset\n",
        "credit_card.shape"
      ],
      "execution_count": 7,
      "outputs": [
        {
          "output_type": "execute_result",
          "data": {
            "text/plain": [
              "(19898, 31)"
            ]
          },
          "metadata": {},
          "execution_count": 7
        }
      ]
    },
    {
      "cell_type": "code",
      "metadata": {
        "id": "BqO4aZOaxXqT"
      },
      "source": [
        "#droping the Null values/missing values\n",
        "credit_card_data = credit_card.dropna(how='any')"
      ],
      "execution_count": 8,
      "outputs": []
    },
    {
      "cell_type": "code",
      "metadata": {
        "id": "9rxH2HYlxkcz",
        "colab": {
          "base_uri": "https://localhost:8080/"
        },
        "outputId": "651d93e4-bf49-404d-e6b6-6e04d1686152"
      },
      "source": [
        "credit_card_data.shape"
      ],
      "execution_count": 9,
      "outputs": [
        {
          "output_type": "execute_result",
          "data": {
            "text/plain": [
              "(19897, 31)"
            ]
          },
          "metadata": {},
          "execution_count": 9
        }
      ]
    },
    {
      "cell_type": "code",
      "metadata": {
        "id": "-R_Szr-SyCHS",
        "colab": {
          "base_uri": "https://localhost:8080/"
        },
        "outputId": "ddeaa704-fa27-42b4-d51b-ff994c11dcbb"
      },
      "source": [
        "#checking null values agin\n",
        "credit_card_data.isnull().sum()"
      ],
      "execution_count": 10,
      "outputs": [
        {
          "output_type": "execute_result",
          "data": {
            "text/plain": [
              "Time      0\n",
              "V1        0\n",
              "V2        0\n",
              "V3        0\n",
              "V4        0\n",
              "V5        0\n",
              "V6        0\n",
              "V7        0\n",
              "V8        0\n",
              "V9        0\n",
              "V10       0\n",
              "V11       0\n",
              "V12       0\n",
              "V13       0\n",
              "V14       0\n",
              "V15       0\n",
              "V16       0\n",
              "V17       0\n",
              "V18       0\n",
              "V19       0\n",
              "V20       0\n",
              "V21       0\n",
              "V22       0\n",
              "V23       0\n",
              "V24       0\n",
              "V25       0\n",
              "V26       0\n",
              "V27       0\n",
              "V28       0\n",
              "Amount    0\n",
              "Class     0\n",
              "dtype: int64"
            ]
          },
          "metadata": {},
          "execution_count": 10
        }
      ]
    },
    {
      "cell_type": "code",
      "metadata": {
        "id": "Kz9GvN3Hygpy",
        "colab": {
          "base_uri": "https://localhost:8080/"
        },
        "outputId": "1e564149-9959-400f-844c-d9e382821d2a"
      },
      "source": [
        "#distribudtion of legit and fraudulent transactions\n",
        "credit_card_data['Class'].value_counts()"
      ],
      "execution_count": 13,
      "outputs": [
        {
          "output_type": "execute_result",
          "data": {
            "text/plain": [
              "0.0    19812\n",
              "1.0       85\n",
              "Name: Class, dtype: int64"
            ]
          },
          "metadata": {},
          "execution_count": 13
        }
      ]
    },
    {
      "cell_type": "markdown",
      "metadata": {
        "id": "XD8-byJ9zVmr"
      },
      "source": [
        "Dataset is highly imbalanced\n"
      ]
    },
    {
      "cell_type": "markdown",
      "metadata": {
        "id": "hIwQzL-4zwQq"
      },
      "source": [
        "0 ----> normal transactions\n"
      ]
    },
    {
      "cell_type": "markdown",
      "metadata": {
        "id": "tBg-ttd_zx56"
      },
      "source": [
        "1 ----> Fraudulent transactions"
      ]
    },
    {
      "cell_type": "code",
      "metadata": {
        "id": "3Hw00lC1zAOq"
      },
      "source": [
        "#separating the data for analysis\n",
        "legit = credit_card_data[credit_card_data.Class == 0]\n",
        "fraud = credit_card_data[credit_card_data.Class == 1]"
      ],
      "execution_count": 14,
      "outputs": []
    },
    {
      "cell_type": "code",
      "metadata": {
        "id": "cLpwJjYB0Y-i",
        "colab": {
          "base_uri": "https://localhost:8080/"
        },
        "outputId": "6df8c2e6-fd6d-4be7-a8b8-0faf6d9633ec"
      },
      "source": [
        "print(legit.shape)\n",
        "print(fraud.shape)"
      ],
      "execution_count": 15,
      "outputs": [
        {
          "output_type": "stream",
          "text": [
            "(19812, 31)\n",
            "(85, 31)\n"
          ],
          "name": "stdout"
        }
      ]
    },
    {
      "cell_type": "code",
      "metadata": {
        "id": "jST_5Umj01Si",
        "colab": {
          "base_uri": "https://localhost:8080/"
        },
        "outputId": "640347bc-5ecd-4903-d844-a32f229a665b"
      },
      "source": [
        "#statistical measures of the data\n",
        "legit.Amount.describe()"
      ],
      "execution_count": 16,
      "outputs": [
        {
          "output_type": "execute_result",
          "data": {
            "text/plain": [
              "count    19812.000000\n",
              "mean        70.169855\n",
              "std        205.091118\n",
              "min          0.000000\n",
              "25%          5.900000\n",
              "50%         16.070000\n",
              "75%         59.950000\n",
              "max       7879.420000\n",
              "Name: Amount, dtype: float64"
            ]
          },
          "metadata": {},
          "execution_count": 16
        }
      ]
    },
    {
      "cell_type": "code",
      "metadata": {
        "id": "J3-jxCN71PQh",
        "colab": {
          "base_uri": "https://localhost:8080/"
        },
        "outputId": "b1903abe-43e3-4ea9-b378-ff20cfad681b"
      },
      "source": [
        "fraud.Amount.describe()"
      ],
      "execution_count": 17,
      "outputs": [
        {
          "output_type": "execute_result",
          "data": {
            "text/plain": [
              "count      85.000000\n",
              "mean       93.869647\n",
              "std       261.736641\n",
              "min         0.000000\n",
              "25%         1.000000\n",
              "50%         1.000000\n",
              "75%        99.990000\n",
              "max      1809.680000\n",
              "Name: Amount, dtype: float64"
            ]
          },
          "metadata": {},
          "execution_count": 17
        }
      ]
    },
    {
      "cell_type": "code",
      "metadata": {
        "id": "8HLLIO7s1dkC",
        "colab": {
          "base_uri": "https://localhost:8080/",
          "height": 162
        },
        "outputId": "dfa21d3c-3de0-40ff-b9dc-6b3d86bcdc25"
      },
      "source": [
        "#compare the values for both transactions\n",
        "credit_card_data.groupby('Class').mean()"
      ],
      "execution_count": 18,
      "outputs": [
        {
          "output_type": "execute_result",
          "data": {
            "text/html": [
              "<div>\n",
              "<style scoped>\n",
              "    .dataframe tbody tr th:only-of-type {\n",
              "        vertical-align: middle;\n",
              "    }\n",
              "\n",
              "    .dataframe tbody tr th {\n",
              "        vertical-align: top;\n",
              "    }\n",
              "\n",
              "    .dataframe thead th {\n",
              "        text-align: right;\n",
              "    }\n",
              "</style>\n",
              "<table border=\"1\" class=\"dataframe\">\n",
              "  <thead>\n",
              "    <tr style=\"text-align: right;\">\n",
              "      <th></th>\n",
              "      <th>Time</th>\n",
              "      <th>V1</th>\n",
              "      <th>V2</th>\n",
              "      <th>V3</th>\n",
              "      <th>V4</th>\n",
              "      <th>V5</th>\n",
              "      <th>V6</th>\n",
              "      <th>V7</th>\n",
              "      <th>V8</th>\n",
              "      <th>V9</th>\n",
              "      <th>V10</th>\n",
              "      <th>V11</th>\n",
              "      <th>V12</th>\n",
              "      <th>V13</th>\n",
              "      <th>V14</th>\n",
              "      <th>V15</th>\n",
              "      <th>V16</th>\n",
              "      <th>V17</th>\n",
              "      <th>V18</th>\n",
              "      <th>V19</th>\n",
              "      <th>V20</th>\n",
              "      <th>V21</th>\n",
              "      <th>V22</th>\n",
              "      <th>V23</th>\n",
              "      <th>V24</th>\n",
              "      <th>V25</th>\n",
              "      <th>V26</th>\n",
              "      <th>V27</th>\n",
              "      <th>V28</th>\n",
              "      <th>Amount</th>\n",
              "    </tr>\n",
              "    <tr>\n",
              "      <th>Class</th>\n",
              "      <th></th>\n",
              "      <th></th>\n",
              "      <th></th>\n",
              "      <th></th>\n",
              "      <th></th>\n",
              "      <th></th>\n",
              "      <th></th>\n",
              "      <th></th>\n",
              "      <th></th>\n",
              "      <th></th>\n",
              "      <th></th>\n",
              "      <th></th>\n",
              "      <th></th>\n",
              "      <th></th>\n",
              "      <th></th>\n",
              "      <th></th>\n",
              "      <th></th>\n",
              "      <th></th>\n",
              "      <th></th>\n",
              "      <th></th>\n",
              "      <th></th>\n",
              "      <th></th>\n",
              "      <th></th>\n",
              "      <th></th>\n",
              "      <th></th>\n",
              "      <th></th>\n",
              "      <th></th>\n",
              "      <th></th>\n",
              "      <th></th>\n",
              "      <th></th>\n",
              "    </tr>\n",
              "  </thead>\n",
              "  <tbody>\n",
              "    <tr>\n",
              "      <th>0.0</th>\n",
              "      <td>15483.312841</td>\n",
              "      <td>-0.207233</td>\n",
              "      <td>0.215159</td>\n",
              "      <td>0.803126</td>\n",
              "      <td>0.250998</td>\n",
              "      <td>-0.137392</td>\n",
              "      <td>0.104262</td>\n",
              "      <td>-0.108931</td>\n",
              "      <td>0.003328</td>\n",
              "      <td>0.652123</td>\n",
              "      <td>-0.190219</td>\n",
              "      <td>0.659685</td>\n",
              "      <td>-1.054588</td>\n",
              "      <td>0.683299</td>\n",
              "      <td>0.596339</td>\n",
              "      <td>-0.043684</td>\n",
              "      <td>0.016669</td>\n",
              "      <td>0.325518</td>\n",
              "      <td>-0.033251</td>\n",
              "      <td>-0.067476</td>\n",
              "      <td>0.036041</td>\n",
              "      <td>-0.050458</td>\n",
              "      <td>-0.145393</td>\n",
              "      <td>-0.036602</td>\n",
              "      <td>0.011905</td>\n",
              "      <td>0.121909</td>\n",
              "      <td>0.032495</td>\n",
              "      <td>0.010624</td>\n",
              "      <td>0.006940</td>\n",
              "      <td>70.169855</td>\n",
              "    </tr>\n",
              "    <tr>\n",
              "      <th>1.0</th>\n",
              "      <td>17436.164706</td>\n",
              "      <td>-8.862174</td>\n",
              "      <td>6.570214</td>\n",
              "      <td>-12.622087</td>\n",
              "      <td>6.343007</td>\n",
              "      <td>-6.187820</td>\n",
              "      <td>-2.567646</td>\n",
              "      <td>-8.600077</td>\n",
              "      <td>4.519437</td>\n",
              "      <td>-3.041592</td>\n",
              "      <td>-7.284235</td>\n",
              "      <td>6.052295</td>\n",
              "      <td>-9.070368</td>\n",
              "      <td>0.418066</td>\n",
              "      <td>-8.814590</td>\n",
              "      <td>-0.171201</td>\n",
              "      <td>-5.041641</td>\n",
              "      <td>-8.024561</td>\n",
              "      <td>-2.820745</td>\n",
              "      <td>0.318733</td>\n",
              "      <td>0.725080</td>\n",
              "      <td>0.536833</td>\n",
              "      <td>-0.395312</td>\n",
              "      <td>-0.385599</td>\n",
              "      <td>-0.275306</td>\n",
              "      <td>0.359543</td>\n",
              "      <td>0.180456</td>\n",
              "      <td>0.907255</td>\n",
              "      <td>0.093985</td>\n",
              "      <td>93.869647</td>\n",
              "    </tr>\n",
              "  </tbody>\n",
              "</table>\n",
              "</div>"
            ],
            "text/plain": [
              "               Time        V1        V2  ...       V27       V28     Amount\n",
              "Class                                    ...                               \n",
              "0.0    15483.312841 -0.207233  0.215159  ...  0.010624  0.006940  70.169855\n",
              "1.0    17436.164706 -8.862174  6.570214  ...  0.907255  0.093985  93.869647\n",
              "\n",
              "[2 rows x 30 columns]"
            ]
          },
          "metadata": {},
          "execution_count": 18
        }
      ]
    },
    {
      "cell_type": "markdown",
      "metadata": {
        "id": "Rx0NBSX-16Tr"
      },
      "source": [
        "Under-Sampling"
      ]
    },
    {
      "cell_type": "markdown",
      "metadata": {
        "id": "25aJz84i1_dn"
      },
      "source": [
        "Build a sample dataset containing similar distribution of normal and fraudulent transactions"
      ]
    },
    {
      "cell_type": "markdown",
      "metadata": {
        "id": "QwpSMV-N2LR-"
      },
      "source": [
        "Number of Fradulent transactions ---> 85"
      ]
    },
    {
      "cell_type": "markdown",
      "metadata": {
        "id": "wiv9NBmv2R9T"
      },
      "source": [
        "Number of Normal transictions ---> 152298"
      ]
    },
    {
      "cell_type": "code",
      "metadata": {
        "id": "m9PT1e492KO_"
      },
      "source": [
        "legit_sample = legit.sample(n=85)"
      ],
      "execution_count": 19,
      "outputs": []
    },
    {
      "cell_type": "code",
      "metadata": {
        "id": "GuHdgS853CMz"
      },
      "source": [
        "#Concatennating two dataframes\n",
        "new_dataset = pd.concat([legit_sample, fraud],axis=0)"
      ],
      "execution_count": 20,
      "outputs": []
    },
    {
      "cell_type": "code",
      "metadata": {
        "id": "Qdn9cVlP3aGi",
        "colab": {
          "base_uri": "https://localhost:8080/",
          "height": 224
        },
        "outputId": "ec013e7d-02cf-4359-b331-d84834f0234c"
      },
      "source": [
        "new_dataset.head()"
      ],
      "execution_count": 21,
      "outputs": [
        {
          "output_type": "execute_result",
          "data": {
            "text/html": [
              "<div>\n",
              "<style scoped>\n",
              "    .dataframe tbody tr th:only-of-type {\n",
              "        vertical-align: middle;\n",
              "    }\n",
              "\n",
              "    .dataframe tbody tr th {\n",
              "        vertical-align: top;\n",
              "    }\n",
              "\n",
              "    .dataframe thead th {\n",
              "        text-align: right;\n",
              "    }\n",
              "</style>\n",
              "<table border=\"1\" class=\"dataframe\">\n",
              "  <thead>\n",
              "    <tr style=\"text-align: right;\">\n",
              "      <th></th>\n",
              "      <th>Time</th>\n",
              "      <th>V1</th>\n",
              "      <th>V2</th>\n",
              "      <th>V3</th>\n",
              "      <th>V4</th>\n",
              "      <th>V5</th>\n",
              "      <th>V6</th>\n",
              "      <th>V7</th>\n",
              "      <th>V8</th>\n",
              "      <th>V9</th>\n",
              "      <th>V10</th>\n",
              "      <th>V11</th>\n",
              "      <th>V12</th>\n",
              "      <th>V13</th>\n",
              "      <th>V14</th>\n",
              "      <th>V15</th>\n",
              "      <th>V16</th>\n",
              "      <th>V17</th>\n",
              "      <th>V18</th>\n",
              "      <th>V19</th>\n",
              "      <th>V20</th>\n",
              "      <th>V21</th>\n",
              "      <th>V22</th>\n",
              "      <th>V23</th>\n",
              "      <th>V24</th>\n",
              "      <th>V25</th>\n",
              "      <th>V26</th>\n",
              "      <th>V27</th>\n",
              "      <th>V28</th>\n",
              "      <th>Amount</th>\n",
              "      <th>Class</th>\n",
              "    </tr>\n",
              "  </thead>\n",
              "  <tbody>\n",
              "    <tr>\n",
              "      <th>9125</th>\n",
              "      <td>12886</td>\n",
              "      <td>-2.097094</td>\n",
              "      <td>-0.503764</td>\n",
              "      <td>0.481407</td>\n",
              "      <td>-2.255937</td>\n",
              "      <td>-0.325686</td>\n",
              "      <td>1.170120</td>\n",
              "      <td>-0.991313</td>\n",
              "      <td>1.168754</td>\n",
              "      <td>-1.568041</td>\n",
              "      <td>-0.005555</td>\n",
              "      <td>2.375992</td>\n",
              "      <td>-2.173837</td>\n",
              "      <td>1.883130</td>\n",
              "      <td>1.787764</td>\n",
              "      <td>-1.452821</td>\n",
              "      <td>-1.598540</td>\n",
              "      <td>2.571124</td>\n",
              "      <td>-1.349199</td>\n",
              "      <td>-2.036888</td>\n",
              "      <td>-0.892383</td>\n",
              "      <td>-0.044250</td>\n",
              "      <td>0.462918</td>\n",
              "      <td>0.221650</td>\n",
              "      <td>-1.078500</td>\n",
              "      <td>0.127244</td>\n",
              "      <td>-0.161769</td>\n",
              "      <td>-0.325427</td>\n",
              "      <td>-0.144792</td>\n",
              "      <td>48.00</td>\n",
              "      <td>0.0</td>\n",
              "    </tr>\n",
              "    <tr>\n",
              "      <th>6441</th>\n",
              "      <td>7657</td>\n",
              "      <td>1.294428</td>\n",
              "      <td>-0.586259</td>\n",
              "      <td>0.716298</td>\n",
              "      <td>-0.294352</td>\n",
              "      <td>-1.132341</td>\n",
              "      <td>-0.564161</td>\n",
              "      <td>-0.740536</td>\n",
              "      <td>-0.096782</td>\n",
              "      <td>0.628886</td>\n",
              "      <td>0.290604</td>\n",
              "      <td>2.163865</td>\n",
              "      <td>-2.307207</td>\n",
              "      <td>1.146375</td>\n",
              "      <td>1.264889</td>\n",
              "      <td>-1.892819</td>\n",
              "      <td>0.707092</td>\n",
              "      <td>1.260128</td>\n",
              "      <td>-1.010677</td>\n",
              "      <td>0.944296</td>\n",
              "      <td>0.027208</td>\n",
              "      <td>-0.097704</td>\n",
              "      <td>-0.051731</td>\n",
              "      <td>-0.023473</td>\n",
              "      <td>0.503884</td>\n",
              "      <td>0.454560</td>\n",
              "      <td>-0.314434</td>\n",
              "      <td>-0.023549</td>\n",
              "      <td>0.001925</td>\n",
              "      <td>33.00</td>\n",
              "      <td>0.0</td>\n",
              "    </tr>\n",
              "    <tr>\n",
              "      <th>19507</th>\n",
              "      <td>30335</td>\n",
              "      <td>1.262842</td>\n",
              "      <td>1.187528</td>\n",
              "      <td>-1.923626</td>\n",
              "      <td>1.342786</td>\n",
              "      <td>1.246010</td>\n",
              "      <td>-1.047270</td>\n",
              "      <td>0.616627</td>\n",
              "      <td>-0.154017</td>\n",
              "      <td>-0.562666</td>\n",
              "      <td>-1.363241</td>\n",
              "      <td>1.682368</td>\n",
              "      <td>-0.371136</td>\n",
              "      <td>-0.653816</td>\n",
              "      <td>-3.116913</td>\n",
              "      <td>0.494103</td>\n",
              "      <td>1.500168</td>\n",
              "      <td>2.189039</td>\n",
              "      <td>2.168895</td>\n",
              "      <td>-0.232743</td>\n",
              "      <td>-0.035800</td>\n",
              "      <td>-0.219795</td>\n",
              "      <td>-0.592129</td>\n",
              "      <td>-0.316088</td>\n",
              "      <td>-0.837673</td>\n",
              "      <td>0.918383</td>\n",
              "      <td>-0.258449</td>\n",
              "      <td>0.031320</td>\n",
              "      <td>0.077145</td>\n",
              "      <td>0.89</td>\n",
              "      <td>0.0</td>\n",
              "    </tr>\n",
              "    <tr>\n",
              "      <th>12280</th>\n",
              "      <td>21454</td>\n",
              "      <td>-0.542825</td>\n",
              "      <td>0.232401</td>\n",
              "      <td>1.875498</td>\n",
              "      <td>-2.222817</td>\n",
              "      <td>-0.335101</td>\n",
              "      <td>-0.543689</td>\n",
              "      <td>0.142594</td>\n",
              "      <td>0.142070</td>\n",
              "      <td>2.966599</td>\n",
              "      <td>-2.343825</td>\n",
              "      <td>0.109444</td>\n",
              "      <td>-2.543598</td>\n",
              "      <td>0.139868</td>\n",
              "      <td>1.368801</td>\n",
              "      <td>-0.425273</td>\n",
              "      <td>-0.156670</td>\n",
              "      <td>0.254789</td>\n",
              "      <td>0.147566</td>\n",
              "      <td>-1.617035</td>\n",
              "      <td>-0.447305</td>\n",
              "      <td>-0.005626</td>\n",
              "      <td>0.331967</td>\n",
              "      <td>-0.029186</td>\n",
              "      <td>-0.028818</td>\n",
              "      <td>-0.512904</td>\n",
              "      <td>-1.119045</td>\n",
              "      <td>0.193215</td>\n",
              "      <td>0.173038</td>\n",
              "      <td>11.85</td>\n",
              "      <td>0.0</td>\n",
              "    </tr>\n",
              "    <tr>\n",
              "      <th>996</th>\n",
              "      <td>752</td>\n",
              "      <td>-2.101171</td>\n",
              "      <td>-0.227365</td>\n",
              "      <td>1.624668</td>\n",
              "      <td>-0.291123</td>\n",
              "      <td>1.902446</td>\n",
              "      <td>-1.483921</td>\n",
              "      <td>-0.275117</td>\n",
              "      <td>0.085964</td>\n",
              "      <td>-0.563098</td>\n",
              "      <td>-0.376024</td>\n",
              "      <td>1.232299</td>\n",
              "      <td>0.834265</td>\n",
              "      <td>0.523792</td>\n",
              "      <td>-0.389664</td>\n",
              "      <td>-0.090364</td>\n",
              "      <td>0.900605</td>\n",
              "      <td>-0.612590</td>\n",
              "      <td>0.294092</td>\n",
              "      <td>-0.232595</td>\n",
              "      <td>-0.134549</td>\n",
              "      <td>-0.313782</td>\n",
              "      <td>-0.804784</td>\n",
              "      <td>-0.474101</td>\n",
              "      <td>0.008102</td>\n",
              "      <td>0.259725</td>\n",
              "      <td>0.032376</td>\n",
              "      <td>0.323580</td>\n",
              "      <td>0.034622</td>\n",
              "      <td>1.78</td>\n",
              "      <td>0.0</td>\n",
              "    </tr>\n",
              "  </tbody>\n",
              "</table>\n",
              "</div>"
            ],
            "text/plain": [
              "        Time        V1        V2        V3  ...       V27       V28  Amount  Class\n",
              "9125   12886 -2.097094 -0.503764  0.481407  ... -0.325427 -0.144792   48.00    0.0\n",
              "6441    7657  1.294428 -0.586259  0.716298  ... -0.023549  0.001925   33.00    0.0\n",
              "19507  30335  1.262842  1.187528 -1.923626  ...  0.031320  0.077145    0.89    0.0\n",
              "12280  21454 -0.542825  0.232401  1.875498  ...  0.193215  0.173038   11.85    0.0\n",
              "996      752 -2.101171 -0.227365  1.624668  ...  0.323580  0.034622    1.78    0.0\n",
              "\n",
              "[5 rows x 31 columns]"
            ]
          },
          "metadata": {},
          "execution_count": 21
        }
      ]
    },
    {
      "cell_type": "code",
      "metadata": {
        "id": "NiS-3nVM3kt5",
        "colab": {
          "base_uri": "https://localhost:8080/",
          "height": 224
        },
        "outputId": "57330650-b725-40de-edae-9e06f2cf854d"
      },
      "source": [
        "new_dataset.tail()"
      ],
      "execution_count": 22,
      "outputs": [
        {
          "output_type": "execute_result",
          "data": {
            "text/html": [
              "<div>\n",
              "<style scoped>\n",
              "    .dataframe tbody tr th:only-of-type {\n",
              "        vertical-align: middle;\n",
              "    }\n",
              "\n",
              "    .dataframe tbody tr th {\n",
              "        vertical-align: top;\n",
              "    }\n",
              "\n",
              "    .dataframe thead th {\n",
              "        text-align: right;\n",
              "    }\n",
              "</style>\n",
              "<table border=\"1\" class=\"dataframe\">\n",
              "  <thead>\n",
              "    <tr style=\"text-align: right;\">\n",
              "      <th></th>\n",
              "      <th>Time</th>\n",
              "      <th>V1</th>\n",
              "      <th>V2</th>\n",
              "      <th>V3</th>\n",
              "      <th>V4</th>\n",
              "      <th>V5</th>\n",
              "      <th>V6</th>\n",
              "      <th>V7</th>\n",
              "      <th>V8</th>\n",
              "      <th>V9</th>\n",
              "      <th>V10</th>\n",
              "      <th>V11</th>\n",
              "      <th>V12</th>\n",
              "      <th>V13</th>\n",
              "      <th>V14</th>\n",
              "      <th>V15</th>\n",
              "      <th>V16</th>\n",
              "      <th>V17</th>\n",
              "      <th>V18</th>\n",
              "      <th>V19</th>\n",
              "      <th>V20</th>\n",
              "      <th>V21</th>\n",
              "      <th>V22</th>\n",
              "      <th>V23</th>\n",
              "      <th>V24</th>\n",
              "      <th>V25</th>\n",
              "      <th>V26</th>\n",
              "      <th>V27</th>\n",
              "      <th>V28</th>\n",
              "      <th>Amount</th>\n",
              "      <th>Class</th>\n",
              "    </tr>\n",
              "  </thead>\n",
              "  <tbody>\n",
              "    <tr>\n",
              "      <th>17480</th>\n",
              "      <td>28755</td>\n",
              "      <td>-30.552380</td>\n",
              "      <td>16.713389</td>\n",
              "      <td>-31.103685</td>\n",
              "      <td>6.534984</td>\n",
              "      <td>-22.105532</td>\n",
              "      <td>-4.977692</td>\n",
              "      <td>-20.371514</td>\n",
              "      <td>20.007208</td>\n",
              "      <td>-3.565738</td>\n",
              "      <td>-7.731071</td>\n",
              "      <td>3.829427</td>\n",
              "      <td>-5.314332</td>\n",
              "      <td>1.446930</td>\n",
              "      <td>-4.579264</td>\n",
              "      <td>-0.142299</td>\n",
              "      <td>-4.997848</td>\n",
              "      <td>-10.961410</td>\n",
              "      <td>-4.641482</td>\n",
              "      <td>0.567056</td>\n",
              "      <td>1.733644</td>\n",
              "      <td>1.816520</td>\n",
              "      <td>-2.288686</td>\n",
              "      <td>-1.460544</td>\n",
              "      <td>0.183179</td>\n",
              "      <td>2.208209</td>\n",
              "      <td>-0.208824</td>\n",
              "      <td>1.232636</td>\n",
              "      <td>0.356660</td>\n",
              "      <td>99.99</td>\n",
              "      <td>1.0</td>\n",
              "    </tr>\n",
              "    <tr>\n",
              "      <th>18466</th>\n",
              "      <td>29526</td>\n",
              "      <td>1.102804</td>\n",
              "      <td>2.829168</td>\n",
              "      <td>-3.932870</td>\n",
              "      <td>4.707691</td>\n",
              "      <td>2.937967</td>\n",
              "      <td>-1.800904</td>\n",
              "      <td>1.672734</td>\n",
              "      <td>-0.300240</td>\n",
              "      <td>-2.783011</td>\n",
              "      <td>-1.884842</td>\n",
              "      <td>3.792565</td>\n",
              "      <td>-1.460471</td>\n",
              "      <td>-1.312776</td>\n",
              "      <td>-7.077361</td>\n",
              "      <td>-0.299466</td>\n",
              "      <td>2.493228</td>\n",
              "      <td>6.244987</td>\n",
              "      <td>2.971749</td>\n",
              "      <td>-2.679950</td>\n",
              "      <td>-0.030880</td>\n",
              "      <td>-0.106994</td>\n",
              "      <td>-0.250050</td>\n",
              "      <td>-0.521627</td>\n",
              "      <td>-0.448950</td>\n",
              "      <td>1.291646</td>\n",
              "      <td>0.516327</td>\n",
              "      <td>0.009146</td>\n",
              "      <td>0.153318</td>\n",
              "      <td>0.68</td>\n",
              "      <td>1.0</td>\n",
              "    </tr>\n",
              "    <tr>\n",
              "      <th>18472</th>\n",
              "      <td>29531</td>\n",
              "      <td>-1.060676</td>\n",
              "      <td>2.608579</td>\n",
              "      <td>-2.971679</td>\n",
              "      <td>4.360089</td>\n",
              "      <td>3.738853</td>\n",
              "      <td>-2.728395</td>\n",
              "      <td>1.987616</td>\n",
              "      <td>-0.357345</td>\n",
              "      <td>-2.757535</td>\n",
              "      <td>-2.335933</td>\n",
              "      <td>2.111517</td>\n",
              "      <td>-2.591950</td>\n",
              "      <td>-1.950589</td>\n",
              "      <td>-7.311580</td>\n",
              "      <td>0.077753</td>\n",
              "      <td>2.290608</td>\n",
              "      <td>6.509272</td>\n",
              "      <td>2.569971</td>\n",
              "      <td>-3.286150</td>\n",
              "      <td>-0.089062</td>\n",
              "      <td>-0.063168</td>\n",
              "      <td>-0.207385</td>\n",
              "      <td>-0.183261</td>\n",
              "      <td>-0.103679</td>\n",
              "      <td>0.896178</td>\n",
              "      <td>0.407387</td>\n",
              "      <td>-0.130918</td>\n",
              "      <td>0.192177</td>\n",
              "      <td>0.68</td>\n",
              "      <td>1.0</td>\n",
              "    </tr>\n",
              "    <tr>\n",
              "      <th>18773</th>\n",
              "      <td>29753</td>\n",
              "      <td>0.269614</td>\n",
              "      <td>3.549755</td>\n",
              "      <td>-5.810353</td>\n",
              "      <td>5.809370</td>\n",
              "      <td>1.538808</td>\n",
              "      <td>-2.269219</td>\n",
              "      <td>-0.824203</td>\n",
              "      <td>0.351070</td>\n",
              "      <td>-3.759059</td>\n",
              "      <td>-4.592390</td>\n",
              "      <td>5.479392</td>\n",
              "      <td>-5.657858</td>\n",
              "      <td>-2.648076</td>\n",
              "      <td>-10.384890</td>\n",
              "      <td>-0.225946</td>\n",
              "      <td>-0.701883</td>\n",
              "      <td>0.409736</td>\n",
              "      <td>0.939604</td>\n",
              "      <td>-1.954300</td>\n",
              "      <td>0.310525</td>\n",
              "      <td>0.371121</td>\n",
              "      <td>-0.322290</td>\n",
              "      <td>-0.549856</td>\n",
              "      <td>-0.520629</td>\n",
              "      <td>1.378210</td>\n",
              "      <td>0.564714</td>\n",
              "      <td>0.553255</td>\n",
              "      <td>0.402400</td>\n",
              "      <td>0.68</td>\n",
              "      <td>1.0</td>\n",
              "    </tr>\n",
              "    <tr>\n",
              "      <th>18809</th>\n",
              "      <td>29785</td>\n",
              "      <td>0.923764</td>\n",
              "      <td>0.344048</td>\n",
              "      <td>-2.880004</td>\n",
              "      <td>1.721680</td>\n",
              "      <td>-3.019565</td>\n",
              "      <td>-0.639736</td>\n",
              "      <td>-3.801325</td>\n",
              "      <td>1.299096</td>\n",
              "      <td>0.864065</td>\n",
              "      <td>-2.895252</td>\n",
              "      <td>3.028162</td>\n",
              "      <td>-2.549177</td>\n",
              "      <td>-1.560432</td>\n",
              "      <td>-2.971317</td>\n",
              "      <td>1.078895</td>\n",
              "      <td>-4.702012</td>\n",
              "      <td>-4.908099</td>\n",
              "      <td>-1.508873</td>\n",
              "      <td>3.001685</td>\n",
              "      <td>0.170872</td>\n",
              "      <td>0.899931</td>\n",
              "      <td>1.481271</td>\n",
              "      <td>0.725266</td>\n",
              "      <td>0.176960</td>\n",
              "      <td>-1.815638</td>\n",
              "      <td>-0.536517</td>\n",
              "      <td>0.489035</td>\n",
              "      <td>-0.049729</td>\n",
              "      <td>30.30</td>\n",
              "      <td>1.0</td>\n",
              "    </tr>\n",
              "  </tbody>\n",
              "</table>\n",
              "</div>"
            ],
            "text/plain": [
              "        Time         V1         V2  ...       V28  Amount  Class\n",
              "17480  28755 -30.552380  16.713389  ...  0.356660   99.99    1.0\n",
              "18466  29526   1.102804   2.829168  ...  0.153318    0.68    1.0\n",
              "18472  29531  -1.060676   2.608579  ...  0.192177    0.68    1.0\n",
              "18773  29753   0.269614   3.549755  ...  0.402400    0.68    1.0\n",
              "18809  29785   0.923764   0.344048  ... -0.049729   30.30    1.0\n",
              "\n",
              "[5 rows x 31 columns]"
            ]
          },
          "metadata": {},
          "execution_count": 22
        }
      ]
    },
    {
      "cell_type": "code",
      "metadata": {
        "id": "2251H95V3u3B",
        "colab": {
          "base_uri": "https://localhost:8080/"
        },
        "outputId": "ee72433a-f73f-4ad5-a79b-25306dff0960"
      },
      "source": [
        "new_dataset['Class'].value_counts()"
      ],
      "execution_count": 23,
      "outputs": [
        {
          "output_type": "execute_result",
          "data": {
            "text/plain": [
              "1.0    85\n",
              "0.0    85\n",
              "Name: Class, dtype: int64"
            ]
          },
          "metadata": {},
          "execution_count": 23
        }
      ]
    },
    {
      "cell_type": "code",
      "metadata": {
        "id": "yyCLwpfe386B",
        "colab": {
          "base_uri": "https://localhost:8080/",
          "height": 162
        },
        "outputId": "72e31db4-ab48-45de-c1fe-e8061dd24b8f"
      },
      "source": [
        "new_dataset.groupby('Class').mean()"
      ],
      "execution_count": 24,
      "outputs": [
        {
          "output_type": "execute_result",
          "data": {
            "text/html": [
              "<div>\n",
              "<style scoped>\n",
              "    .dataframe tbody tr th:only-of-type {\n",
              "        vertical-align: middle;\n",
              "    }\n",
              "\n",
              "    .dataframe tbody tr th {\n",
              "        vertical-align: top;\n",
              "    }\n",
              "\n",
              "    .dataframe thead th {\n",
              "        text-align: right;\n",
              "    }\n",
              "</style>\n",
              "<table border=\"1\" class=\"dataframe\">\n",
              "  <thead>\n",
              "    <tr style=\"text-align: right;\">\n",
              "      <th></th>\n",
              "      <th>Time</th>\n",
              "      <th>V1</th>\n",
              "      <th>V2</th>\n",
              "      <th>V3</th>\n",
              "      <th>V4</th>\n",
              "      <th>V5</th>\n",
              "      <th>V6</th>\n",
              "      <th>V7</th>\n",
              "      <th>V8</th>\n",
              "      <th>V9</th>\n",
              "      <th>V10</th>\n",
              "      <th>V11</th>\n",
              "      <th>V12</th>\n",
              "      <th>V13</th>\n",
              "      <th>V14</th>\n",
              "      <th>V15</th>\n",
              "      <th>V16</th>\n",
              "      <th>V17</th>\n",
              "      <th>V18</th>\n",
              "      <th>V19</th>\n",
              "      <th>V20</th>\n",
              "      <th>V21</th>\n",
              "      <th>V22</th>\n",
              "      <th>V23</th>\n",
              "      <th>V24</th>\n",
              "      <th>V25</th>\n",
              "      <th>V26</th>\n",
              "      <th>V27</th>\n",
              "      <th>V28</th>\n",
              "      <th>Amount</th>\n",
              "    </tr>\n",
              "    <tr>\n",
              "      <th>Class</th>\n",
              "      <th></th>\n",
              "      <th></th>\n",
              "      <th></th>\n",
              "      <th></th>\n",
              "      <th></th>\n",
              "      <th></th>\n",
              "      <th></th>\n",
              "      <th></th>\n",
              "      <th></th>\n",
              "      <th></th>\n",
              "      <th></th>\n",
              "      <th></th>\n",
              "      <th></th>\n",
              "      <th></th>\n",
              "      <th></th>\n",
              "      <th></th>\n",
              "      <th></th>\n",
              "      <th></th>\n",
              "      <th></th>\n",
              "      <th></th>\n",
              "      <th></th>\n",
              "      <th></th>\n",
              "      <th></th>\n",
              "      <th></th>\n",
              "      <th></th>\n",
              "      <th></th>\n",
              "      <th></th>\n",
              "      <th></th>\n",
              "      <th></th>\n",
              "      <th></th>\n",
              "    </tr>\n",
              "  </thead>\n",
              "  <tbody>\n",
              "    <tr>\n",
              "      <th>0.0</th>\n",
              "      <td>14747.352941</td>\n",
              "      <td>-0.152124</td>\n",
              "      <td>0.143837</td>\n",
              "      <td>1.027584</td>\n",
              "      <td>0.205709</td>\n",
              "      <td>-0.024868</td>\n",
              "      <td>0.204067</td>\n",
              "      <td>-0.096471</td>\n",
              "      <td>0.036987</td>\n",
              "      <td>0.572394</td>\n",
              "      <td>-0.232699</td>\n",
              "      <td>0.660534</td>\n",
              "      <td>-1.129988</td>\n",
              "      <td>0.706077</td>\n",
              "      <td>0.580036</td>\n",
              "      <td>-0.151120</td>\n",
              "      <td>0.004183</td>\n",
              "      <td>0.405464</td>\n",
              "      <td>-0.098998</td>\n",
              "      <td>0.040913</td>\n",
              "      <td>-0.034733</td>\n",
              "      <td>-0.154430</td>\n",
              "      <td>-0.110480</td>\n",
              "      <td>-0.069554</td>\n",
              "      <td>-0.029832</td>\n",
              "      <td>0.122528</td>\n",
              "      <td>-0.013562</td>\n",
              "      <td>-0.017467</td>\n",
              "      <td>0.023469</td>\n",
              "      <td>52.426588</td>\n",
              "    </tr>\n",
              "    <tr>\n",
              "      <th>1.0</th>\n",
              "      <td>17436.164706</td>\n",
              "      <td>-8.862174</td>\n",
              "      <td>6.570214</td>\n",
              "      <td>-12.622087</td>\n",
              "      <td>6.343007</td>\n",
              "      <td>-6.187820</td>\n",
              "      <td>-2.567646</td>\n",
              "      <td>-8.600077</td>\n",
              "      <td>4.519437</td>\n",
              "      <td>-3.041592</td>\n",
              "      <td>-7.284235</td>\n",
              "      <td>6.052295</td>\n",
              "      <td>-9.070368</td>\n",
              "      <td>0.418066</td>\n",
              "      <td>-8.814590</td>\n",
              "      <td>-0.171201</td>\n",
              "      <td>-5.041641</td>\n",
              "      <td>-8.024561</td>\n",
              "      <td>-2.820745</td>\n",
              "      <td>0.318733</td>\n",
              "      <td>0.725080</td>\n",
              "      <td>0.536833</td>\n",
              "      <td>-0.395312</td>\n",
              "      <td>-0.385599</td>\n",
              "      <td>-0.275306</td>\n",
              "      <td>0.359543</td>\n",
              "      <td>0.180456</td>\n",
              "      <td>0.907255</td>\n",
              "      <td>0.093985</td>\n",
              "      <td>93.869647</td>\n",
              "    </tr>\n",
              "  </tbody>\n",
              "</table>\n",
              "</div>"
            ],
            "text/plain": [
              "               Time        V1        V2  ...       V27       V28     Amount\n",
              "Class                                    ...                               \n",
              "0.0    14747.352941 -0.152124  0.143837  ... -0.017467  0.023469  52.426588\n",
              "1.0    17436.164706 -8.862174  6.570214  ...  0.907255  0.093985  93.869647\n",
              "\n",
              "[2 rows x 30 columns]"
            ]
          },
          "metadata": {},
          "execution_count": 24
        }
      ]
    },
    {
      "cell_type": "markdown",
      "metadata": {
        "id": "oVoXZR4ZBnT7"
      },
      "source": [
        "slpitting the data into Features and Targets"
      ]
    },
    {
      "cell_type": "code",
      "metadata": {
        "id": "fi2jYTb74TFi"
      },
      "source": [
        "X = new_dataset.drop(columns='Class', axis =1)\n",
        "Y = new_dataset['Class']"
      ],
      "execution_count": 25,
      "outputs": []
    },
    {
      "cell_type": "code",
      "metadata": {
        "id": "nLRCm0bt5PaR",
        "colab": {
          "base_uri": "https://localhost:8080/"
        },
        "outputId": "907b941a-4104-4690-c1b1-7b01cf9b9c9c"
      },
      "source": [
        "print(X)"
      ],
      "execution_count": 26,
      "outputs": [
        {
          "output_type": "stream",
          "text": [
            "        Time         V1         V2  ...       V27       V28  Amount\n",
            "9125   12886  -2.097094  -0.503764  ... -0.325427 -0.144792   48.00\n",
            "6441    7657   1.294428  -0.586259  ... -0.023549  0.001925   33.00\n",
            "19507  30335   1.262842   1.187528  ...  0.031320  0.077145    0.89\n",
            "12280  21454  -0.542825   0.232401  ...  0.193215  0.173038   11.85\n",
            "996      752  -2.101171  -0.227365  ...  0.323580  0.034622    1.78\n",
            "...      ...        ...        ...  ...       ...       ...     ...\n",
            "17480  28755 -30.552380  16.713389  ...  1.232636  0.356660   99.99\n",
            "18466  29526   1.102804   2.829168  ...  0.009146  0.153318    0.68\n",
            "18472  29531  -1.060676   2.608579  ... -0.130918  0.192177    0.68\n",
            "18773  29753   0.269614   3.549755  ...  0.553255  0.402400    0.68\n",
            "18809  29785   0.923764   0.344048  ...  0.489035 -0.049729   30.30\n",
            "\n",
            "[170 rows x 30 columns]\n"
          ],
          "name": "stdout"
        }
      ]
    },
    {
      "cell_type": "code",
      "metadata": {
        "id": "hy8g-xrl5Tmh",
        "colab": {
          "base_uri": "https://localhost:8080/"
        },
        "outputId": "7ea5fce0-3f15-4df2-e0b9-b5b2ea1af3a7"
      },
      "source": [
        "print(Y)"
      ],
      "execution_count": 27,
      "outputs": [
        {
          "output_type": "stream",
          "text": [
            "9125     0.0\n",
            "6441     0.0\n",
            "19507    0.0\n",
            "12280    0.0\n",
            "996      0.0\n",
            "        ... \n",
            "17480    1.0\n",
            "18466    1.0\n",
            "18472    1.0\n",
            "18773    1.0\n",
            "18809    1.0\n",
            "Name: Class, Length: 170, dtype: float64\n"
          ],
          "name": "stdout"
        }
      ]
    },
    {
      "cell_type": "code",
      "metadata": {
        "id": "KPAIEjVI5jnT"
      },
      "source": [
        "#spilting into training and testing \n",
        "X_train, X_test, Y_train, Y_test = train_test_split(X, Y, test_size=0.2, stratify=Y, random_state=2)"
      ],
      "execution_count": 28,
      "outputs": []
    },
    {
      "cell_type": "code",
      "metadata": {
        "colab": {
          "base_uri": "https://localhost:8080/"
        },
        "id": "_yZpxLHy8eRh",
        "outputId": "bc3677da-cece-412e-ab24-c0d40e950ac9"
      },
      "source": [
        "print(X.shape, X_train.shape, X_test.shape)"
      ],
      "execution_count": 29,
      "outputs": [
        {
          "output_type": "stream",
          "text": [
            "(170, 30) (136, 30) (34, 30)\n"
          ],
          "name": "stdout"
        }
      ]
    },
    {
      "cell_type": "markdown",
      "metadata": {
        "id": "kuObE2BdFK_E"
      },
      "source": [
        "Model Training"
      ]
    },
    {
      "cell_type": "code",
      "metadata": {
        "id": "ZMZjXqmE8tCJ"
      },
      "source": [
        "#Logistic Regression\n",
        "model = LogisticRegression()"
      ],
      "execution_count": 31,
      "outputs": []
    },
    {
      "cell_type": "code",
      "metadata": {
        "id": "RN-bpHVc85h5",
        "colab": {
          "base_uri": "https://localhost:8080/"
        },
        "outputId": "1cd483db-62e8-4bbb-8d1c-e9fa5db5eab5"
      },
      "source": [
        "#training the model\n",
        "model.fit(X_train, Y_train)"
      ],
      "execution_count": 32,
      "outputs": [
        {
          "output_type": "stream",
          "text": [
            "/usr/local/lib/python3.7/dist-packages/sklearn/linear_model/_logistic.py:940: ConvergenceWarning: lbfgs failed to converge (status=1):\n",
            "STOP: TOTAL NO. of ITERATIONS REACHED LIMIT.\n",
            "\n",
            "Increase the number of iterations (max_iter) or scale the data as shown in:\n",
            "    https://scikit-learn.org/stable/modules/preprocessing.html\n",
            "Please also refer to the documentation for alternative solver options:\n",
            "    https://scikit-learn.org/stable/modules/linear_model.html#logistic-regression\n",
            "  extra_warning_msg=_LOGISTIC_SOLVER_CONVERGENCE_MSG)\n"
          ],
          "name": "stderr"
        },
        {
          "output_type": "execute_result",
          "data": {
            "text/plain": [
              "LogisticRegression(C=1.0, class_weight=None, dual=False, fit_intercept=True,\n",
              "                   intercept_scaling=1, l1_ratio=None, max_iter=100,\n",
              "                   multi_class='auto', n_jobs=None, penalty='l2',\n",
              "                   random_state=None, solver='lbfgs', tol=0.0001, verbose=0,\n",
              "                   warm_start=False)"
            ]
          },
          "metadata": {},
          "execution_count": 32
        }
      ]
    },
    {
      "cell_type": "markdown",
      "metadata": {
        "id": "S6_F2i8A9pMr"
      },
      "source": [
        "Evaluation"
      ]
    },
    {
      "cell_type": "code",
      "metadata": {
        "id": "ZgGKJJSA9qv5"
      },
      "source": [
        "#Accuracy Score on training data\n",
        "X_train_prediction = model.predict(X_train)\n",
        "training_data_accuracy = accuracy_score(X_train_prediction, Y_train)"
      ],
      "execution_count": 33,
      "outputs": []
    },
    {
      "cell_type": "code",
      "metadata": {
        "colab": {
          "base_uri": "https://localhost:8080/"
        },
        "id": "DJP-o8wP-Vrx",
        "outputId": "85d37450-0202-470d-bb09-3fbf87fede5e"
      },
      "source": [
        "print(\"Accuracy on training data : \", training_data_accuracy)"
      ],
      "execution_count": 34,
      "outputs": [
        {
          "output_type": "stream",
          "text": [
            "Accuracy on training data :  0.9926470588235294\n"
          ],
          "name": "stdout"
        }
      ]
    },
    {
      "cell_type": "code",
      "metadata": {
        "id": "5I36-_aW-vjK"
      },
      "source": [
        "#Accuracy Score on Testing data\n",
        "X_test_prediction = model.predict(X_test)\n",
        "testing_data_accuracy = accuracy_score(X_test_prediction, Y_test)"
      ],
      "execution_count": 35,
      "outputs": []
    },
    {
      "cell_type": "code",
      "metadata": {
        "colab": {
          "base_uri": "https://localhost:8080/"
        },
        "id": "4aFs-98M-8L8",
        "outputId": "219f1b85-0b75-405e-9508-1761d8d39ded"
      },
      "source": [
        "print(\"Accuracy on testing data : \", testing_data_accuracy)"
      ],
      "execution_count": 36,
      "outputs": [
        {
          "output_type": "stream",
          "text": [
            "Accuracy on testing data :  0.9117647058823529\n"
          ],
          "name": "stdout"
        }
      ]
    },
    {
      "cell_type": "markdown",
      "metadata": {
        "id": "evXhsdHrAOma"
      },
      "source": [
        "EXtra"
      ]
    },
    {
      "cell_type": "code",
      "metadata": {
        "id": "lHst4Tb8_20C"
      },
      "source": [
        "#slpitting the data into Features and Targets\n",
        "A = credit_card_data.drop(columns='Class', axis =1)\n",
        "B = credit_card_data['Class']"
      ],
      "execution_count": 37,
      "outputs": []
    },
    {
      "cell_type": "code",
      "metadata": {
        "id": "E9YTI9aSAunT"
      },
      "source": [
        "#Accuracy Score on Dataset\n",
        "A_prediction = model.predict(A)\n",
        "dataset_accuracy = accuracy_score(A_prediction, B)"
      ],
      "execution_count": 38,
      "outputs": []
    },
    {
      "cell_type": "code",
      "metadata": {
        "colab": {
          "base_uri": "https://localhost:8080/"
        },
        "id": "QE6tDUngBSYw",
        "outputId": "690464b4-c4db-47c8-fd39-2e4927eb5227"
      },
      "source": [
        "print(\"Accuracy on Dataset: \",dataset_accuracy)"
      ],
      "execution_count": 39,
      "outputs": [
        {
          "output_type": "stream",
          "text": [
            "Accuracy on Dataset:  0.9683369352163643\n"
          ],
          "name": "stdout"
        }
      ]
    }
  ]
}